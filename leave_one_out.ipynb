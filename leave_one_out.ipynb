{
 "cells": [
  {
   "cell_type": "markdown",
   "id": "9aa3451a",
   "metadata": {},
   "source": [
    "# Code for \"Generalization Through The Lens of Leave-One-Out Error\""
   ]
  },
  {
   "cell_type": "markdown",
   "id": "93e93996",
   "metadata": {},
   "source": [
    "In this notebook we provide code for our paper \"Generalization Through The Lens of Leave-One-Out-Error\". We present the mathematical results along with the corresponding implementations. We tried to make the notation in this notebook self-contained, however some details might require more technical explanations. For a more precise introduction to the theoretical parts, please check out our [paper](https://openreview.net/pdf?id=7grkzyj89A_)."
   ]
  },
  {
   "cell_type": "markdown",
   "id": "fa9e706f",
   "metadata": {},
   "source": [
    "## Setup"
   ]
  },
  {
   "cell_type": "markdown",
   "id": "6b6f69ef",
   "metadata": {},
   "source": [
    "You will need to install the following packages in order to run the code:\n",
    "<pre>\n",
    "- numpy           1.21.5\n",
    "- jax             0.2.26\n",
    "- jaxlib          0.1.75\n",
    "- torchvision     0.11.2\n",
    "- neural_tangents 0.3.9\n",
    "</pre>"
   ]
  },
  {
   "cell_type": "markdown",
   "id": "4204d1c9",
   "metadata": {},
   "source": [
    "First we import the neccessary functions for the leave-one-out computations."
   ]
  },
  {
   "cell_type": "code",
   "execution_count": 2,
   "id": "e50e3eff",
   "metadata": {},
   "outputs": [
    {
     "name": "stderr",
     "output_type": "stream",
     "text": [
      "WARNING:absl:No GPU/TPU found, falling back to CPU. (Set TF_CPP_MIN_LOG_LEVEL=0 and rerun for more info.)\n"
     ]
    }
   ],
   "source": [
    "import jax.numpy as jnp\n",
    "\n",
    "from kernels import NTK\n",
    "from utils import mse_loss, accuracy, get_dataset"
   ]
  },
  {
   "cell_type": "markdown",
   "id": "b5c51a88",
   "metadata": {},
   "source": [
    "## A First Example"
   ]
  },
  {
   "cell_type": "markdown",
   "id": "78223f08",
   "metadata": {},
   "source": [
    "We first run a basic example on *CIFAR10* with a fully-connected neural tangent kernel. We will then vary the parameter setting by changing the sample size, the kernel function and the inherent complexity in the model."
   ]
  },
  {
   "cell_type": "markdown",
   "id": "d996b927",
   "metadata": {},
   "source": [
    "### Prepare data\n",
    "We specify the parameters and load the dataset. We choose *CIFAR10* but you can also specify *MNIST* instead."
   ]
  },
  {
   "cell_type": "code",
   "execution_count": 39,
   "id": "b0d51d05",
   "metadata": {},
   "outputs": [],
   "source": [
    "# Define the parameters\n",
    "n_train = 5000\n",
    "n_test = 10000\n",
    "classes = 10          # One of 10 or 2 (i.e. binary classification)\n",
    "dataset = 'CIFAR'     # One of 'CIFAR' or 'MNIST'\n",
    "flat = True           # For fully-connected kernels, we flatten the inputs\n",
    "download = False      # Set to true if you have not downloaded the dataset\n",
    "\n",
    "# Prepare the data\n",
    "data = get_dataset(name=dataset, n_train=n_train, n_test=n_test, classes=classes, flat=flat, download=download)"
   ]
  },
  {
   "cell_type": "markdown",
   "id": "8b8ef83a",
   "metadata": {},
   "source": [
    "### Train model\n",
    "We specify a neural tangent kernel **K** of depth 5 and then fit the model to the training data, according to the kernel equation, i.e. we calculate the pseudo-inverse of the training Gram matrix and project it down with the training labels. Using the pseudo-inverse corresponds to the minimum-norm interpolator (i.e. zero L2 regularization) which is the primary focus of this notebook. Check out our paper for more details concerning the case of L2 regularization. We can summarize the predictive function with the following formula:\n",
    "<img src=\"./markdown_pics/kernel_fit.png\" width=\"800\" />"
   ]
  },
  {
   "cell_type": "code",
   "execution_count": 14,
   "id": "40825b64",
   "metadata": {},
   "outputs": [],
   "source": [
    "# Define the model and fit it to the training data\n",
    "model = NTK(depth=5)\n",
    "model.fit(data.x_train, data.y_train)"
   ]
  },
  {
   "cell_type": "markdown",
   "id": "c5cf85f7",
   "metadata": {},
   "source": [
    "### Predict on training and test set\n",
    "Next, we form predictions with the learnt function, both on training and test examples. Then we calculate the training and test statistics, i.e. both mean-squared loss and accuracy. The test loss and accuracy serve as a proxy for the true generalization loss and accuracy, defined as \n",
    "<img src=\"markdown_pics/generalization.png\" width=\"800\" />\n",
    "which is usually intractable due to the lack of knowledge of the data distribution. We will demonstrate that the leave-one-out error is another way to obtain an accurate estimate that does **not** need access to a held-out testset."
   ]
  },
  {
   "cell_type": "code",
   "execution_count": 15,
   "id": "ec67470c",
   "metadata": {},
   "outputs": [],
   "source": [
    "# Predict on train and test set\n",
    "preds_train = model.predict(data.x_train, mode='train')\n",
    "preds_test = model.predict(data.x_test, mode='test')\n",
    "\n",
    "# Calculate the train and test statistics\n",
    "train_loss = mse_loss(preds_train, data.y_train)\n",
    "train_acc = accuracy(preds_train, data.y_train)\n",
    "test_loss = mse_loss(preds_test, data.y_test)\n",
    "test_acc = accuracy(preds_test, data.y_test)\n"
   ]
  },
  {
   "cell_type": "markdown",
   "id": "e491f84e",
   "metadata": {},
   "source": [
    "### Leave-One-Out Loss and Accuracy\n",
    "We can now also calculate the leave-one-out error and accuracy efficiently, due to the short-cut formula shown in Theorem 3.2, stating that the leave-one-out loss and accuracy can be calculated as \n",
    "<img src=\"markdown_pics/leave_one_out.png\" width=\"800\" />"
   ]
  },
  {
   "cell_type": "markdown",
   "id": "ef4b931f",
   "metadata": {},
   "source": [
    "This expression concerns kernel ridge regression, where we add a L2 regularization term. Recent studies however indicate that explicit regularization does not seem to be essential to the success of deep learning. As a result we also derived an expression in the case of zero regularization (i.e. for the minimum norm interpolator), which we will use in our calculations. We display the mathematical expression that the residuals take in this regime in the following:\n",
    "<img src=\"markdown_pics/loo_unregularized.png\" width=\"500\"/>\n",
    "We see that the formula depends on the rank of the kernel matrix, which serves as a measure of complexity. Full rank (i.e. r=n) implies that the kernel is invertible, leading to zero training error. We will discuss this in more detail in the next section. Neural Tangent kernels tend to have full rank."
   ]
  },
  {
   "cell_type": "code",
   "execution_count": 16,
   "id": "4bd3cb45",
   "metadata": {},
   "outputs": [],
   "source": [
    "loo_loss, loo_acc = model.leave_one_out()"
   ]
  },
  {
   "cell_type": "markdown",
   "id": "a6370208",
   "metadata": {},
   "source": [
    "We can now compare the resulting statistics to understand how well the leave-one-out loss reflects the test loss as well as the corresponding accuracies:"
   ]
  },
  {
   "cell_type": "code",
   "execution_count": 17,
   "id": "c9316c46",
   "metadata": {},
   "outputs": [
    {
     "name": "stdout",
     "output_type": "stream",
     "text": [
      "-------------Loss-------------\n",
      "Train Loss:           0.0000\n",
      "Test Loss:            0.7217\n",
      "LOO Loss:             0.7251\n",
      "-----------Accuracy-----------\n",
      "Train Accuracy:       100.00 %\n",
      "Test Accuracy:         46.96 %\n",
      "LOO Accuracy:          46.42 %\n"
     ]
    }
   ],
   "source": [
    "print('-------------Loss-------------')\n",
    "print('Train Loss:           ' + '%.4f' % train_loss)\n",
    "print('Test Loss:            ' + '%.4f' % test_loss)\n",
    "print('LOO Loss:             ' + '%.4f' % loo_loss)\n",
    "print('-----------Accuracy-----------')\n",
    "print('Train Accuracy:       ' + '%.2f' % (100 * train_acc) + ' %')\n",
    "print('Test Accuracy:         ' + '%.2f' % (100 * test_acc) + ' %')\n",
    "print('LOO Accuracy:          ' + '%.2f' % (100 * loo_acc) + ' %')"
   ]
  },
  {
   "cell_type": "markdown",
   "id": "bad8c608",
   "metadata": {},
   "source": [
    "We see that, as anticipated, the kernel has full rank and thus exhibits zero training loss and perfect training accuracy. On the other hand we find that the leave-one-out statistics reflect the test statistics almost perfectly. The framework of leave-one-out error hence gives us a tool to accurately predict the generalization of a model while only relying on the training data!"
   ]
  },
  {
   "cell_type": "markdown",
   "id": "7de73bf1",
   "metadata": {},
   "source": [
    "## Varying Sample Size "
   ]
  },
  {
   "cell_type": "markdown",
   "id": "49f38fb5",
   "metadata": {},
   "source": [
    "We now vary the sample size used for training the model to study how the predictive quality of the leave-one-out error changes. We will essentially run the same script as above in a for-loop."
   ]
  },
  {
   "cell_type": "code",
   "execution_count": 37,
   "id": "9542e959",
   "metadata": {},
   "outputs": [
    {
     "name": "stdout",
     "output_type": "stream",
     "text": [
      "Completed iteration 1 out of 10\n",
      "Completed iteration 2 out of 10\n",
      "Completed iteration 3 out of 10\n",
      "Completed iteration 4 out of 10\n",
      "Completed iteration 5 out of 10\n",
      "Completed iteration 6 out of 10\n",
      "Completed iteration 7 out of 10\n",
      "Completed iteration 8 out of 10\n",
      "Completed iteration 9 out of 10\n",
      "Completed iteration 10 out of 10\n"
     ]
    }
   ],
   "source": [
    "# Specify the sample size grid and the other parameters\n",
    "dataset = 'CIFAR'\n",
    "n_test = 10000\n",
    "classes = 10\n",
    "n_trains = classes * jnp.linspace(50, 600, num=10,  dtype=int)\n",
    "flat = True\n",
    "download = False\n",
    "\n",
    "train_losses, test_losses, loo_losses = [], [], []\n",
    "train_accs, test_accs, loo_accs = [], [], []\n",
    "\n",
    "for i in range(n_trains.shape[0]):\n",
    "    # Get dataset of size i\n",
    "    n = n_trains[i]\n",
    "    data = get_dataset(name=dataset, n_train=n, n_test=n_test, classes=classes, flat=flat, download=download)\n",
    "    # Define and fit the model\n",
    "    model = NTK(depth=5)\n",
    "    model.fit(data.x_train, data.y_train)\n",
    "    # Predict on test and train set\n",
    "    preds_train = model.predict(data.x_train, mode='train')\n",
    "    preds_test = model.predict(data.x_test, mode='test')\n",
    "    # Calculate the train and test statistics\n",
    "    train_losses.append(mse_loss(preds_train, data.y_train))\n",
    "    train_accs.append(accuracy(preds_train, data.y_train))\n",
    "    test_losses.append(mse_loss(preds_test, data.y_test))\n",
    "    test_accs.append(accuracy(preds_test, data.y_test))\n",
    "    # Calculate the leave-one-out statistics\n",
    "    loo_loss, loo_acc = model.leave_one_out()\n",
    "    loo_losses.append(loo_loss)\n",
    "    loo_accs.append(loo_acc)\n",
    "    print('Completed iteration', i + 1, 'out of', n_trains.shape[0])"
   ]
  },
  {
   "cell_type": "markdown",
   "id": "438d0948",
   "metadata": {},
   "source": [
    "Next we visualize the resulting statistics as a function of the sample size:"
   ]
  },
  {
   "cell_type": "code",
   "execution_count": 7,
   "id": "e0a447ce",
   "metadata": {},
   "outputs": [],
   "source": [
    "import matplotlib.pyplot as plt"
   ]
  },
  {
   "cell_type": "code",
   "execution_count": 38,
   "id": "59091fd2",
   "metadata": {},
   "outputs": [
    {
     "data": {
      "image/png": "[encoded data removed]",
      "text/plain": [
       "<Figure size 1080x360 with 2 Axes>"
      ]
     },
     "metadata": {
      "needs_background": "light"
     },
     "output_type": "display_data"
    }
   ],
   "source": [
    "fig, axes = plt.subplots(nrows=1, ncols=2, figsize=(15, 5))\n",
    "axes[0].plot(n_trains, loo_losses, c='#439c74')\n",
    "axes[0].plot(n_trains, test_losses, c='#ff7f78', alpha=0.4)\n",
    "axes[0].fill_between(n_trains, test_losses, color='#ff7f78', alpha=0.2)\n",
    "axes[0].set_xlabel('Sample Size')\n",
    "axes[0].set_ylabel('Loss')\n",
    "axes[1].plot(n_trains, loo_accs, c='#439c74')\n",
    "axes[1].plot(n_trains, test_accs, c='#ff7f78', alpha=0.4)\n",
    "axes[1].fill_between(n_trains, test_accs, color='#ff7f78', alpha=0.2)\n",
    "axes[1].set_xlabel('Sample Size')\n",
    "axes[1].set_ylabel('Accuracy')\n",
    "plt.show()"
   ]
  },
  {
   "cell_type": "markdown",
   "id": "a11573f7",
   "metadata": {},
   "source": [
    "We see that the leave-one-out statistics match the test statistics almost exactly across different sample sizes. "
   ]
  },
  {
   "cell_type": "markdown",
   "id": "fb1c349e",
   "metadata": {},
   "source": [
    "## Leave-One-Out Exhibits Double Descent"
   ]
  },
  {
   "cell_type": "markdown",
   "id": "1eb5a3ab",
   "metadata": {},
   "source": [
    "Finally, we study how the leave-one-out loss and accuracy varies as we adapt the complexity of the model. Since the neural tangent kernel tends to achieve zero training loss (i.e. its complexity is always beyond the interpolation point), we instead study the **random feature** model, where we can vary the inherent complexity."
   ]
  },
  {
   "cell_type": "code",
   "execution_count": 4,
   "id": "3ce003a8",
   "metadata": {},
   "outputs": [],
   "source": [
    "from kernels import RF"
   ]
  },
  {
   "cell_type": "markdown",
   "id": "43e4f478",
   "metadata": {},
   "source": [
    "The random features kernel is defined through the feature map \n",
    "<img src=\"markdown_pics/randomfeatures.png\" width=\"500\"/>\n",
    "where the width 'm' increases the dimensionality of the feature map. Notice that the parameters **V** remain random. Increasing the complexity reduces the training loss as we empirically observe that for most datasets it holds that \n",
    "<img src=\"markdown_pics/rank.png\" width=\"400\"/>\n",
    "In other words, we reach the interpolation point (i.e. zero training error) once the width 'm' exceeds the training set size 'n'."
   ]
  },
  {
   "cell_type": "code",
   "execution_count": 23,
   "id": "ebf9e5c7",
   "metadata": {},
   "outputs": [
    {
     "name": "stdout",
     "output_type": "stream",
     "text": [
      "Completed iteration 1 out of 20\n",
      "Completed iteration 2 out of 20\n",
      "Completed iteration 3 out of 20\n",
      "Completed iteration 4 out of 20\n",
      "Completed iteration 5 out of 20\n",
      "Completed iteration 6 out of 20\n",
      "Completed iteration 7 out of 20\n",
      "Completed iteration 8 out of 20\n",
      "Completed iteration 9 out of 20\n",
      "Completed iteration 10 out of 20\n",
      "Completed iteration 11 out of 20\n",
      "Completed iteration 12 out of 20\n",
      "Completed iteration 13 out of 20\n",
      "Completed iteration 14 out of 20\n",
      "Completed iteration 15 out of 20\n",
      "Completed iteration 16 out of 20\n",
      "Completed iteration 17 out of 20\n",
      "Completed iteration 18 out of 20\n",
      "Completed iteration 19 out of 20\n",
      "Completed iteration 20 out of 20\n"
     ]
    }
   ],
   "source": [
    "# Specify the widths and the other parameters\n",
    "dataset = 'MNIST'\n",
    "n_train = 2000\n",
    "n_test = 10000\n",
    "classes = 10\n",
    "widths = jnp.linspace(50, 2*n_train, num=20,  dtype=int)\n",
    "flat = True\n",
    "download = False\n",
    "\n",
    "train_losses, test_losses, loo_losses = [], [], []\n",
    "train_accs, test_accs, loo_accs = [], [], []\n",
    "\n",
    "data = get_dataset(name=dataset, n_train=n_train, n_test=n_test, classes=classes, flat=flat, download=download)\n",
    "\n",
    "for i in range(widths.shape[0]):\n",
    "    # Get dataset of size i\n",
    "    width = widths[i]\n",
    "    \n",
    "    # Define and fit the model\n",
    "    model = RF(width=width)\n",
    "    model.fit(data.x_train, data.y_train)\n",
    "    # Predict on test and train set\n",
    "    preds_train = model.predict(data.x_train, mode='train')\n",
    "    preds_test = model.predict(data.x_test, mode='test')\n",
    "    # Calculate the train and test statistics\n",
    "    train_losses.append(mse_loss(preds_train, data.y_train))\n",
    "    train_accs.append(accuracy(preds_train, data.y_train))\n",
    "    test_losses.append(mse_loss(preds_test, data.y_test))\n",
    "    test_accs.append(accuracy(preds_test, data.y_test))\n",
    "    # Calculate the leave-one-out statistics\n",
    "    loo_loss, loo_acc = model.leave_one_out()\n",
    "    loo_losses.append(loo_loss)\n",
    "    loo_accs.append(loo_acc)\n",
    "    print('Completed iteration', i + 1, 'out of', widths.shape[0])"
   ]
  },
  {
   "cell_type": "code",
   "execution_count": 31,
   "id": "3c1bd5ed",
   "metadata": {
    "scrolled": true
   },
   "outputs": [
    {
     "data": {
      "image/png": "[encoded data removed]",
      "text/plain": [
       "<Figure size 1080x360 with 2 Axes>"
      ]
     },
     "metadata": {
      "needs_background": "light"
     },
     "output_type": "display_data"
    }
   ],
   "source": [
    "fig, axes = plt.subplots(nrows=1, ncols=2, figsize=(15, 5))\n",
    "axes[0].plot(widths, loo_losses, c='#439c74')\n",
    "axes[0].plot(widths, test_losses, c='#ff7f78', alpha=0.4)\n",
    "axes[0].fill_between(widths, test_losses, color='#ff7f78', alpha=0.2)\n",
    "axes[0].set_xlabel('Width')\n",
    "axes[0].set_ylabel('Loss')\n",
    "axes[1].plot(widths, loo_accs, c='#439c74')\n",
    "axes[1].plot(widths, test_accs, c='#ff7f78', alpha=0.4)\n",
    "axes[1].fill_between(widths, test_accs, color='#ff7f78', alpha=0.2)\n",
    "axes[1].set_xlabel('Width')\n",
    "axes[1].set_ylabel('Accuracy')\n",
    "plt.show()"
   ]
  },
  {
   "cell_type": "markdown",
   "id": "65572d72",
   "metadata": {},
   "source": [
    "We find a very good agreement again between test and leave-one-out statistics across varying complexity settings. Moreover, the leave-one-out error exhibits the famous double-descent curve, as predicted by Theorem 4.3."
   ]
  },
  {
   "cell_type": "code",
   "execution_count": null,
   "id": "fe23ce24",
   "metadata": {},
   "outputs": [],
   "source": []
  }
 ],
 "metadata": {
  "kernelspec": {
   "display_name": "Python 3 (ipykernel)",
   "language": "python",
   "name": "python3"
  },
  "language_info": {
   "codemirror_mode": {
    "name": "ipython",
    "version": 3
   },
   "file_extension": ".py",
   "mimetype": "text/x-python",
   "name": "python",
   "nbconvert_exporter": "python",
   "pygments_lexer": "ipython3",
   "version": "3.9.7"
  }
 },
 "nbformat": 4,
 "nbformat_minor": 5
}
